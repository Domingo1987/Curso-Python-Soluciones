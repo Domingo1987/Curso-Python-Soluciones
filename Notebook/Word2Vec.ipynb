{
  "cells": [
    {
      "cell_type": "markdown",
      "metadata": {
        "id": "EwWmP1SB42ST"
      },
      "source": [
        "# Situación-problema planteada\n",
        "\n",
        "\n",
        "Una empresa quiere mejorar su buscador interno de productos. Actualmente, cuando los usuarios escriben una palabra en el buscador, solo devuelve resultados exactos. Por ejemplo, si el usuario busca “notebook”, no le aparecen resultados de “laptop”, aunque en la práctica sean casi lo mismo.\n",
        " El problema es: ¿cómo podemos mejorar el buscador para que entienda términos similares o relacionados aunque no sean exactamente iguales?\n",
        "\n"
      ]
    },
    {
      "cell_type": "markdown",
      "metadata": {
        "id": "utTIZPUxI6Wf"
      },
      "source": [
        "## Comenzamos\n",
        "\n",
        "1. Instalacion de dasdsa das das d"
      ]
    },
    {
      "cell_type": "code",
      "execution_count": 1,
      "metadata": {
        "colab": {
          "base_uri": "https://localhost:8080/",
          "height": 1000
        },
        "id": "LuL2S3j-zWU9",
        "outputId": "336e7203-c299-422c-f60e-8ce051bbd6bd"
      },
      "outputs": [
        {
          "name": "stdout",
          "output_type": "stream",
          "text": [
            "^C\n"
          ]
        },
        {
          "ename": "ModuleNotFoundError",
          "evalue": "No module named 'gensim'",
          "output_type": "error",
          "traceback": [
            "\u001b[31m---------------------------------------------------------------------------\u001b[39m",
            "\u001b[31mModuleNotFoundError\u001b[39m                       Traceback (most recent call last)",
            "\u001b[36mCell\u001b[39m\u001b[36m \u001b[39m\u001b[32mIn[1]\u001b[39m\u001b[32m, line 4\u001b[39m\n\u001b[32m      1\u001b[39m \u001b[38;5;66;03m# Instalamos librería necesaria\u001b[39;00m\n\u001b[32m      2\u001b[39m get_ipython().system(\u001b[33m'\u001b[39m\u001b[33mpip install gensim\u001b[39m\u001b[33m'\u001b[39m)\n\u001b[32m----> \u001b[39m\u001b[32m4\u001b[39m \u001b[38;5;28;01mfrom\u001b[39;00m\u001b[38;5;250m \u001b[39m\u001b[34;01mgensim\u001b[39;00m\u001b[34;01m.\u001b[39;00m\u001b[34;01mmodels\u001b[39;00m\u001b[38;5;250m \u001b[39m\u001b[38;5;28;01mimport\u001b[39;00m Word2Vec\n\u001b[32m      5\u001b[39m \u001b[38;5;28;01mfrom\u001b[39;00m\u001b[38;5;250m \u001b[39m\u001b[34;01mgensim\u001b[39;00m\u001b[34;01m.\u001b[39;00m\u001b[34;01mtest\u001b[39;00m\u001b[34;01m.\u001b[39;00m\u001b[34;01mutils\u001b[39;00m\u001b[38;5;250m \u001b[39m\u001b[38;5;28;01mimport\u001b[39;00m common_texts\n",
            "\u001b[31mModuleNotFoundError\u001b[39m: No module named 'gensim'"
          ]
        },
        {
          "name": "stdout",
          "output_type": "stream",
          "text": [
            "Defaulting to user installation because normal site-packages is not writeable\n",
            "Collecting gensim\n",
            "  Downloading gensim-4.3.3.tar.gz (23.3 MB)\n",
            "     ---------------------------------------- 0.0/23.3 MB ? eta -:--:--\n",
            "     - -------------------------------------- 0.8/23.3 MB 5.8 MB/s eta 0:00:04\n",
            "     --- ------------------------------------ 1.8/23.3 MB 5.2 MB/s eta 0:00:05\n",
            "     ----- ---------------------------------- 3.1/23.3 MB 5.2 MB/s eta 0:00:04\n",
            "     ------ --------------------------------- 3.9/23.3 MB 5.0 MB/s eta 0:00:04\n",
            "     -------- ------------------------------- 4.7/23.3 MB 4.8 MB/s eta 0:00:04\n",
            "     --------- ------------------------------ 5.8/23.3 MB 4.6 MB/s eta 0:00:04\n",
            "     ---------- ----------------------------- 6.3/23.3 MB 4.7 MB/s eta 0:00:04\n",
            "     ---------- ----------------------------- 6.3/23.3 MB 4.7 MB/s eta 0:00:04\n",
            "     ------------ --------------------------- 7.3/23.3 MB 4.0 MB/s eta 0:00:05\n",
            "     ------------- -------------------------- 8.1/23.3 MB 4.0 MB/s eta 0:00:04\n",
            "     -------------- ------------------------- 8.4/23.3 MB 3.9 MB/s eta 0:00:04\n",
            "     -------------- ------------------------- 8.7/23.3 MB 3.5 MB/s eta 0:00:05\n",
            "     ---------------- ----------------------- 9.4/23.3 MB 3.5 MB/s eta 0:00:04\n",
            "     ------------------ --------------------- 10.5/23.3 MB 3.6 MB/s eta 0:00:04\n",
            "     ------------------- -------------------- 11.5/23.3 MB 3.7 MB/s eta 0:00:04\n",
            "     --------------------- ------------------ 12.3/23.3 MB 3.6 MB/s eta 0:00:04\n",
            "     ---------------------- ----------------- 13.1/23.3 MB 3.7 MB/s eta 0:00:03\n",
            "     ----------------------- ---------------- 13.9/23.3 MB 3.7 MB/s eta 0:00:03\n",
            "     ------------------------- -------------- 14.7/23.3 MB 3.8 MB/s eta 0:00:03\n",
            "     --------------------------- ------------ 15.7/23.3 MB 3.8 MB/s eta 0:00:02\n",
            "     ---------------------------- ----------- 16.5/23.3 MB 3.7 MB/s eta 0:00:02\n",
            "     ----------------------------- ---------- 17.3/23.3 MB 3.8 MB/s eta 0:00:02\n",
            "     ------------------------------ --------- 17.6/23.3 MB 3.7 MB/s eta 0:00:02\n",
            "     -------------------------------- ------- 18.6/23.3 MB 3.7 MB/s eta 0:00:02\n",
            "     --------------------------------- ------ 19.7/23.3 MB 3.7 MB/s eta 0:00:01\n",
            "     ----------------------------------- ---- 20.7/23.3 MB 3.8 MB/s eta 0:00:01\n",
            "     ------------------------------------- -- 21.8/23.3 MB 3.8 MB/s eta 0:00:01\n",
            "     -------------------------------------- - 22.5/23.3 MB 3.8 MB/s eta 0:00:01\n",
            "     ---------------------------------------  23.1/23.3 MB 3.8 MB/s eta 0:00:01\n",
            "     ---------------------------------------- 23.3/23.3 MB 3.7 MB/s eta 0:00:00\n",
            "  Installing build dependencies: started\n",
            "  Installing build dependencies: finished with status 'done'\n",
            "  Getting requirements to build wheel: started\n",
            "  Getting requirements to build wheel: finished with status 'done'\n",
            "  Preparing metadata (pyproject.toml): started\n",
            "  Preparing metadata (pyproject.toml): finished with status 'done'\n",
            "Collecting numpy<2.0,>=1.18.5 (from gensim)\n",
            "  Downloading numpy-1.26.4.tar.gz (15.8 MB)\n",
            "     ---------------------------------------- 0.0/15.8 MB ? eta -:--:--\n",
            "     -- ------------------------------------- 1.0/15.8 MB 6.1 MB/s eta 0:00:03\n",
            "     ----- ---------------------------------- 2.1/15.8 MB 4.9 MB/s eta 0:00:03\n",
            "     ------- -------------------------------- 2.9/15.8 MB 4.8 MB/s eta 0:00:03\n",
            "     ---------- ----------------------------- 4.2/15.8 MB 5.0 MB/s eta 0:00:03\n",
            "     ------------ --------------------------- 5.0/15.8 MB 4.8 MB/s eta 0:00:03\n",
            "     -------------- ------------------------- 5.8/15.8 MB 4.9 MB/s eta 0:00:03\n",
            "     ----------------- ---------------------- 6.8/15.8 MB 4.7 MB/s eta 0:00:02\n",
            "     ------------------- -------------------- 7.9/15.8 MB 4.7 MB/s eta 0:00:02\n",
            "     ---------------------- ----------------- 8.9/15.8 MB 4.7 MB/s eta 0:00:02\n",
            "     ------------------------ --------------- 9.7/15.8 MB 4.6 MB/s eta 0:00:02\n",
            "     --------------------------- ------------ 10.7/15.8 MB 4.7 MB/s eta 0:00:02\n",
            "     ----------------------------- ---------- 11.8/15.8 MB 4.7 MB/s eta 0:00:01\n",
            "     -------------------------------- ------- 12.8/15.8 MB 4.7 MB/s eta 0:00:01\n",
            "     ----------------------------------- ---- 13.9/15.8 MB 4.8 MB/s eta 0:00:01\n",
            "     ------------------------------------- -- 14.9/15.8 MB 4.8 MB/s eta 0:00:01\n",
            "     ---------------------------------------  15.7/15.8 MB 4.8 MB/s eta 0:00:01\n",
            "     ---------------------------------------- 15.8/15.8 MB 4.7 MB/s eta 0:00:00\n",
            "  Installing build dependencies: started\n",
            "  Installing build dependencies: finished with status 'done'\n",
            "  Getting requirements to build wheel: started\n",
            "  Getting requirements to build wheel: finished with status 'done'\n",
            "  Preparing metadata (pyproject.toml): started\n",
            "  Preparing metadata (pyproject.toml): still running...\n",
            "  Preparing metadata (pyproject.toml): still running...\n",
            "  Preparing metadata (pyproject.toml): still running...\n",
            "  Preparing metadata (pyproject.toml): still running...\n",
            "  Preparing metadata (pyproject.toml): still running...\n",
            "  Preparing metadata (pyproject.toml): still running...\n",
            "  Preparing metadata (pyproject.toml): finished with status 'done'\n",
            "Collecting scipy<1.14.0,>=1.7.0 (from gensim)\n",
            "  Downloading scipy-1.13.1.tar.gz (57.2 MB)\n",
            "     ---------------------------------------- 0.0/57.2 MB ? eta -:--:--\n",
            "      --------------------------------------- 1.0/57.2 MB 6.1 MB/s eta 0:00:10\n",
            "     - -------------------------------------- 1.8/57.2 MB 5.6 MB/s eta 0:00:10\n",
            "     -- ------------------------------------- 2.9/57.2 MB 4.8 MB/s eta 0:00:12\n",
            "     -- ------------------------------------- 3.9/57.2 MB 4.8 MB/s eta 0:00:12\n",
            "     --- ------------------------------------ 5.2/57.2 MB 4.9 MB/s eta 0:00:11\n",
            "     ---- ----------------------------------- 6.0/57.2 MB 4.8 MB/s eta 0:00:11\n",
            "     ---- ----------------------------------- 7.1/57.2 MB 4.9 MB/s eta 0:00:11\n",
            "     ----- ---------------------------------- 8.1/57.2 MB 4.7 MB/s eta 0:00:11\n",
            "     ------ --------------------------------- 9.2/57.2 MB 4.8 MB/s eta 0:00:10\n",
            "     ------- -------------------------------- 10.5/57.2 MB 5.0 MB/s eta 0:00:10\n",
            "     -------- ------------------------------- 11.8/57.2 MB 5.0 MB/s eta 0:00:10\n",
            "     -------- ------------------------------- 12.6/57.2 MB 5.1 MB/s eta 0:00:09\n",
            "     --------- ------------------------------ 13.6/57.2 MB 5.0 MB/s eta 0:00:09\n",
            "     ---------- ----------------------------- 14.9/57.2 MB 5.1 MB/s eta 0:00:09\n",
            "     ----------- ---------------------------- 16.3/57.2 MB 5.1 MB/s eta 0:00:09\n",
            "     ----------- ---------------------------- 17.0/57.2 MB 5.1 MB/s eta 0:00:08\n",
            "     ------------ --------------------------- 18.4/57.2 MB 5.1 MB/s eta 0:00:08\n",
            "     ------------- -------------------------- 18.9/57.2 MB 5.0 MB/s eta 0:00:08\n",
            "     ------------- -------------------------- 19.4/57.2 MB 4.9 MB/s eta 0:00:08\n",
            "     -------------- ------------------------- 20.2/57.2 MB 4.8 MB/s eta 0:00:08\n",
            "     -------------- ------------------------- 21.2/57.2 MB 4.8 MB/s eta 0:00:08\n",
            "     --------------- ------------------------ 22.5/57.2 MB 4.8 MB/s eta 0:00:08\n",
            "     ---------------- ----------------------- 23.3/57.2 MB 4.8 MB/s eta 0:00:08\n",
            "     ---------------- ----------------------- 24.1/57.2 MB 4.8 MB/s eta 0:00:07\n",
            "     ----------------- ---------------------- 24.6/57.2 MB 4.6 MB/s eta 0:00:08\n",
            "     ----------------- ---------------------- 25.4/57.2 MB 4.6 MB/s eta 0:00:07\n",
            "     ------------------ --------------------- 26.2/57.2 MB 4.6 MB/s eta 0:00:07\n",
            "     ------------------ --------------------- 26.2/57.2 MB 4.6 MB/s eta 0:00:07\n",
            "     ------------------ --------------------- 26.7/57.2 MB 4.4 MB/s eta 0:00:07\n",
            "     ------------------- -------------------- 27.5/57.2 MB 4.4 MB/s eta 0:00:07\n",
            "     -------------------- ------------------- 28.8/57.2 MB 4.4 MB/s eta 0:00:07\n",
            "     -------------------- ------------------- 29.4/57.2 MB 4.4 MB/s eta 0:00:07\n",
            "     -------------------- ------------------- 29.6/57.2 MB 4.2 MB/s eta 0:00:07\n",
            "     --------------------- ------------------ 30.7/57.2 MB 4.3 MB/s eta 0:00:07\n",
            "     ---------------------- ----------------- 32.0/57.2 MB 4.3 MB/s eta 0:00:06\n",
            "     ----------------------- ---------------- 33.0/57.2 MB 4.4 MB/s eta 0:00:06\n",
            "     ----------------------- ---------------- 34.1/57.2 MB 4.4 MB/s eta 0:00:06\n",
            "     ------------------------ --------------- 35.4/57.2 MB 4.4 MB/s eta 0:00:05\n",
            "     ------------------------- -------------- 36.4/57.2 MB 4.4 MB/s eta 0:00:05\n",
            "     -------------------------- ------------- 37.5/57.2 MB 4.5 MB/s eta 0:00:05\n",
            "     --------------------------- ------------ 38.8/57.2 MB 4.5 MB/s eta 0:00:05\n",
            "     --------------------------- ------------ 39.8/57.2 MB 4.5 MB/s eta 0:00:04\n",
            "     ---------------------------- ----------- 40.9/57.2 MB 4.5 MB/s eta 0:00:04\n",
            "     ----------------------------- ---------- 41.9/57.2 MB 4.5 MB/s eta 0:00:04\n",
            "     ------------------------------ --------- 43.3/57.2 MB 4.6 MB/s eta 0:00:04\n",
            "     ------------------------------ --------- 44.3/57.2 MB 4.6 MB/s eta 0:00:03\n",
            "     ------------------------------- -------- 45.4/57.2 MB 4.6 MB/s eta 0:00:03\n",
            "     -------------------------------- ------- 46.4/57.2 MB 4.6 MB/s eta 0:00:03\n",
            "     --------------------------------- ------ 47.4/57.2 MB 4.6 MB/s eta 0:00:03\n",
            "     --------------------------------- ------ 48.5/57.2 MB 4.6 MB/s eta 0:00:02\n",
            "     --------------------------------- ------ 48.5/57.2 MB 4.6 MB/s eta 0:00:02\n",
            "     ----------------------------------- ---- 50.3/57.2 MB 4.6 MB/s eta 0:00:02\n",
            "     ----------------------------------- ---- 51.4/57.2 MB 4.6 MB/s eta 0:00:02\n",
            "     ------------------------------------ --- 52.4/57.2 MB 4.6 MB/s eta 0:00:02\n",
            "     ------------------------------------- -- 53.5/57.2 MB 4.6 MB/s eta 0:00:01\n",
            "     ------------------------------------- -- 54.3/57.2 MB 4.6 MB/s eta 0:00:01\n",
            "     -------------------------------------- - 55.6/57.2 MB 4.6 MB/s eta 0:00:01\n",
            "     ---------------------------------------  56.6/57.2 MB 4.7 MB/s eta 0:00:01\n",
            "     ---------------------------------------  57.1/57.2 MB 4.6 MB/s eta 0:00:01\n",
            "     ---------------------------------------- 57.2/57.2 MB 4.6 MB/s eta 0:00:00\n",
            "  Installing build dependencies: started\n",
            "  Installing build dependencies: finished with status 'done'\n",
            "  Getting requirements to build wheel: started\n",
            "  Getting requirements to build wheel: finished with status 'done'\n",
            "  Preparing metadata (pyproject.toml): started\n",
            "  Preparing metadata (pyproject.toml): finished with status 'error'\n"
          ]
        },
        {
          "name": "stderr",
          "output_type": "stream",
          "text": [
            "  error: subprocess-exited-with-error\n",
            "  \n",
            "  × Preparing metadata (pyproject.toml) did not run successfully.\n",
            "  │ exit code: 1\n",
            "  ╰─> [43 lines of output]\n",
            "      + meson setup C:\\Users\\elchu\\AppData\\Local\\Temp\\pip-install-ag59x0p2\\scipy_9d1f98feb19e41e3845076f00709758f C:\\Users\\elchu\\AppData\\Local\\Temp\\pip-install-ag59x0p2\\scipy_9d1f98feb19e41e3845076f00709758f\\.mesonpy-vu8v8vt_ -Dbuildtype=release -Db_ndebug=if-release -Db_vscrt=md --native-file=C:\\Users\\elchu\\AppData\\Local\\Temp\\pip-install-ag59x0p2\\scipy_9d1f98feb19e41e3845076f00709758f\\.mesonpy-vu8v8vt_\\meson-python-native-file.ini\n",
            "      The Meson build system\n",
            "      Version: 1.9.0\n",
            "      Source dir: C:\\Users\\elchu\\AppData\\Local\\Temp\\pip-install-ag59x0p2\\scipy_9d1f98feb19e41e3845076f00709758f\n",
            "      Build dir: C:\\Users\\elchu\\AppData\\Local\\Temp\\pip-install-ag59x0p2\\scipy_9d1f98feb19e41e3845076f00709758f\\.mesonpy-vu8v8vt_\n",
            "      Build type: native build\n",
            "      Project name: scipy\n",
            "      Project version: 1.13.1\n",
            "      C compiler for the host machine: cc (gcc 13.2.0 \"cc (Rev5, Built by MSYS2 project) 13.2.0\")\n",
            "      C linker for the host machine: cc ld.bfd 2.42\n",
            "      C++ compiler for the host machine: c++ (gcc 13.2.0 \"c++ (Rev5, Built by MSYS2 project) 13.2.0\")\n",
            "      C++ linker for the host machine: c++ ld.bfd 2.42\n",
            "      Cython compiler for the host machine: cython (cython 3.0.12)\n",
            "      Host machine cpu family: x86_64\n",
            "      Host machine cpu: x86_64\n",
            "      Program python found: YES (C:\\Python313\\python.exe)\n",
            "      Run-time dependency python found: YES 3.13\n",
            "      Program cython found: YES (C:\\Users\\elchu\\AppData\\Local\\Temp\\pip-build-env-ctdqh409\\overlay\\Scripts\\cython.EXE)\n",
            "      Compiler for C supports arguments -Wno-unused-but-set-variable: YES\n",
            "      Compiler for C supports arguments -Wno-unused-function: YES\n",
            "      Compiler for C supports arguments -Wno-conversion: YES\n",
            "      Compiler for C supports arguments -Wno-misleading-indentation: YES\n",
            "      Library m found: YES\n",
            "      Fortran compiler for the host machine: gfortran (gcc 13.2.0 \"GNU Fortran (Rev5, Built by MSYS2 project) 13.2.0\")\n",
            "      Fortran linker for the host machine: gfortran ld.bfd 2.42\n",
            "      Compiler for Fortran supports arguments -Wno-conversion: YES\n",
            "      Checking if \"-Wl,--version-script\" links: YES\n",
            "      Program pythran found: YES 0.15.0 0.15.0 (C:\\Users\\elchu\\AppData\\Local\\Temp\\pip-build-env-ctdqh409\\overlay\\Scripts\\pythran.EXE)\n",
            "      Found pkg-config: YES (C:\\msys64\\mingw64\\bin\\pkg-config.EXE) 2.2.0\n",
            "      Found CMake: C:\\msys64\\mingw64\\bin\\cmake.EXE (3.29.1)\n",
            "      Run-time dependency xsimd found: NO (tried pkgconfig and cmake)\n",
            "      Run-time dependency threads found: YES\n",
            "      Library npymath found: YES\n",
            "      Library npyrandom found: YES\n",
            "      pybind11-config found: YES (C:\\Users\\elchu\\AppData\\Local\\Temp\\pip-build-env-ctdqh409\\overlay\\Scripts\\pybind11-config.EXE) 2.12.1\n",
            "      Run-time dependency pybind11 found: YES 2.12.1\n",
            "      Run-time dependency scipy-openblas found: NO (tried pkgconfig)\n",
            "      Run-time dependency openblas found: NO (tried pkgconfig and cmake)\n",
            "      Run-time dependency openblas found: NO (tried pkgconfig and cmake)\n",
            "      \n",
            "      ..\\scipy\\meson.build:163:9: ERROR: Dependency \"OpenBLAS\" not found, tried pkgconfig and cmake\n",
            "      \n",
            "      A full log can be found at C:\\Users\\elchu\\AppData\\Local\\Temp\\pip-install-ag59x0p2\\scipy_9d1f98feb19e41e3845076f00709758f\\.mesonpy-vu8v8vt_\\meson-logs\\meson-log.txt\n",
            "      [end of output]\n",
            "  \n",
            "  note: This error originates from a subprocess, and is likely not a problem with pip.\n",
            "\n",
            "[notice] A new release of pip is available: 25.0.1 -> 25.2\n",
            "[notice] To update, run: python.exe -m pip install --upgrade pip\n",
            "error: metadata-generation-failed\n",
            "\n",
            "× Encountered error while generating package metadata.\n",
            "╰─> See above for output.\n",
            "\n",
            "note: This is an issue with the package mentioned above, not pip.\n",
            "hint: See above for details.\n"
          ]
        }
      ],
      "source": [
        "# Instalamos librería necesaria\n",
        "\n",
        "from gensim.models import Word2Vec\n",
        "from gensim.test.utils import common_texts\n",
        "\n",
        "\n"
      ]
    },
    {
      "cell_type": "markdown",
      "metadata": {
        "id": "-mDrsR8tI0c9"
      },
      "source": [
        "explicamos porque se instalan esas librerias"
      ]
    },
    {
      "cell_type": "markdown",
      "metadata": {
        "id": "OC9wMg-hJAbK"
      },
      "source": [
        "2. que es lo del codigo debajo"
      ]
    },
    {
      "cell_type": "code",
      "execution_count": null,
      "metadata": {
        "id": "xi4h2qF-Iy_p"
      },
      "outputs": [],
      "source": [
        "# Usamos un corpus de ejemplo que trae gensim (en un caso real sería texto de productos, descripciones, reseñas, etc.)\n",
        "print(common_texts[:5])\n",
        "\n",
        "# Entrenamos un modelo básico de word2vec\n",
        "model = Word2Vec(sentences=common_texts, vector_size=50, window=5, min_count=1, workers=4)\n",
        "\n",
        "# Palabras en el vocabulario\n",
        "print(\"Vocabulario:\", list(model.wv.key_to_index)[:10])\n",
        "\n",
        "# Ejemplo: buscar palabras similares a \"computer\"\n",
        "print(\"\\nPalabras más parecidas a 'computer':\")\n",
        "print(model.wv.most_similar(\"computer\"))\n",
        "\n",
        "# Ejemplo: analogía -> king - man + woman ≈ queen\n",
        "print(\"\\nAnalogía: king - man + woman = ?\")\n",
        "print(model.wv.most_similar(positive=[\"king\",\"woman\"], negative=[\"man\"]))"
      ]
    },
    {
      "cell_type": "markdown",
      "metadata": {
        "id": "afk4aE9wIyy-"
      },
      "source": []
    }
  ],
  "metadata": {
    "colab": {
      "provenance": []
    },
    "kernelspec": {
      "display_name": "Python 3",
      "name": "python3"
    },
    "language_info": {
      "codemirror_mode": {
        "name": "ipython",
        "version": 3
      },
      "file_extension": ".py",
      "mimetype": "text/x-python",
      "name": "python",
      "nbconvert_exporter": "python",
      "pygments_lexer": "ipython3",
      "version": "3.13.3"
    }
  },
  "nbformat": 4,
  "nbformat_minor": 0
}
